{
  "nbformat": 4,
  "nbformat_minor": 0,
  "metadata": {
    "colab": {
      "name": "Ogneva ML final task.ipynb",
      "provenance": [],
      "collapsed_sections": [
        "pYX5Ld-Cc8pk",
        "0gNfp6v9dAdy",
        "C_2qeSgwdE_b",
        "192FO3HGdH0I",
        "0DUvJn3FdKNZ",
        "p6dsIMYTdMmZ",
        "pvOGMsbsdPkL",
        "0YmRzd5WdSkp"
      ]
    },
    "kernelspec": {
      "name": "python3",
      "display_name": "Python 3"
    },
    "language_info": {
      "name": "python"
    }
  },
  "cells": [
    {
      "cell_type": "code",
      "metadata": {
        "id": "V3HsfWLKp7Th"
      },
      "source": [
        "import pandas as pd  # импорт библиотеки pandas"
      ],
      "execution_count": null,
      "outputs": []
    },
    {
      "cell_type": "code",
      "metadata": {
        "id": "q-ha8Yrr6hLe"
      },
      "source": [
        "import numpy as np  # импорт библиотеки numpy"
      ],
      "execution_count": null,
      "outputs": []
    },
    {
      "cell_type": "code",
      "metadata": {
        "id": "LCTu25Ox7HT3"
      },
      "source": [
        "from matplotlib import pyplot as plt  # импорт библиотеки matplotlib"
      ],
      "execution_count": null,
      "outputs": []
    },
    {
      "cell_type": "markdown",
      "metadata": {
        "id": "pYX5Ld-Cc8pk"
      },
      "source": [
        "# 1. Найти готовый файл с данными (не менее 1000 строк, минимум 3 поля — числовые)."
      ]
    },
    {
      "cell_type": "markdown",
      "metadata": {
        "id": "8yZcvk4vhwFy"
      },
      "source": [
        "Ссылка https://www.kaggle.com/gmadevs/wta-matches?select=wta_matches_2000.csv"
      ]
    },
    {
      "cell_type": "markdown",
      "metadata": {
        "id": "Ci6SAwbW5YlW"
      },
      "source": [
        "Данные о теннисных матчах Женской Ассоциации Тенниса за 2000 год"
      ]
    },
    {
      "cell_type": "code",
      "source": [
        "from google.colab import files  # загрузка файла, называется \"wta_matches_2000.csv\"\n",
        "uploaded = files.upload()"
      ],
      "metadata": {
        "colab": {
          "resources": {
            "http://localhost:8080/nbextensions/google.colab/files.js": {
              "data": "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",
              "ok": true,
              "headers": [
                [
                  "content-type",
                  "application/javascript"
                ]
              ],
              "status": 200,
              "status_text": ""
            }
          },
          "base_uri": "https://localhost:8080/",
          "height": 73
        },
        "id": "yp1BRVjlxFI7",
        "outputId": "cf3c2588-1eed-42a7-fd4f-8ce2096d1818"
      },
      "execution_count": null,
      "outputs": [
        {
          "output_type": "display_data",
          "data": {
            "text/html": [
              "\n",
              "     <input type=\"file\" id=\"files-bdf8bf6d-9aa5-4bb9-ac8b-c57d431b1d5a\" name=\"files[]\" multiple disabled\n",
              "        style=\"border:none\" />\n",
              "     <output id=\"result-bdf8bf6d-9aa5-4bb9-ac8b-c57d431b1d5a\">\n",
              "      Upload widget is only available when the cell has been executed in the\n",
              "      current browser session. Please rerun this cell to enable.\n",
              "      </output>\n",
              "      <script src=\"/nbextensions/google.colab/files.js\"></script> "
            ],
            "text/plain": [
              "<IPython.core.display.HTML object>"
            ]
          },
          "metadata": {}
        },
        {
          "output_type": "stream",
          "name": "stdout",
          "text": [
            "Saving wta_matches_2000.csv to wta_matches_2000.csv\n"
          ]
        }
      ]
    },
    {
      "cell_type": "code",
      "metadata": {
        "id": "JUc_HTo4czmZ"
      },
      "source": [
        "df = pd.read_csv('wta_matches_2000.csv')  # формирование датафрейма из файла"
      ],
      "execution_count": null,
      "outputs": []
    },
    {
      "cell_type": "code",
      "metadata": {
        "id": "Crh6F6erpo8J",
        "colab": {
          "base_uri": "https://localhost:8080/"
        },
        "outputId": "6821b979-f806-423a-906c-b833944f9b0b"
      },
      "source": [
        "df.info()  # вывод информации"
      ],
      "execution_count": null,
      "outputs": [
        {
          "output_type": "stream",
          "name": "stdout",
          "text": [
            "<class 'pandas.core.frame.DataFrame'>\n",
            "Int64Index: 2575 entries, 0 to 2882\n",
            "Data columns (total 31 columns):\n",
            " #   Column                        Non-Null Count  Dtype  \n",
            "---  ------                        --------------  -----  \n",
            " 0   tourney_id                    2575 non-null   object \n",
            " 1   tourney_name                  2575 non-null   object \n",
            " 2   surface                       2575 non-null   object \n",
            " 3   draw_size                     2575 non-null   int64  \n",
            " 4   tourney_level                 2575 non-null   object \n",
            " 5   tourney_date                  2575 non-null   int64  \n",
            " 6   match_num                     2575 non-null   int64  \n",
            " 7   winner_id                     2575 non-null   int64  \n",
            " 8   winner_seed                   1118 non-null   float64\n",
            " 9   winner_entry                  299 non-null    object \n",
            " 10  winner_name                   2575 non-null   object \n",
            " 11  winner_hand                   2575 non-null   object \n",
            " 12  winner_ht                     1008 non-null   float64\n",
            " 13  winner_ioc                    2575 non-null   object \n",
            " 14  winner_age                    2575 non-null   float64\n",
            " 15  winner_rank                   2575 non-null   float64\n",
            " 16  winner_rank_points            2575 non-null   float64\n",
            " 17  loser_id                      2575 non-null   int64  \n",
            " 18  loser_seed                    551 non-null    float64\n",
            " 19  loser_entry                   528 non-null    object \n",
            " 20  loser_name                    2575 non-null   object \n",
            " 21  loser_hand                    2575 non-null   object \n",
            " 22  loser_ht                      638 non-null    float64\n",
            " 23  loser_ioc                     2575 non-null   object \n",
            " 24  loser_age                     2575 non-null   float64\n",
            " 25  loser_rank                    2575 non-null   float64\n",
            " 26  loser_rank_points             2575 non-null   float64\n",
            " 27  score                         2575 non-null   object \n",
            " 28  best_of                       2575 non-null   int64  \n",
            " 29  round                         2575 non-null   object \n",
            " 30  max_minus_winner_rank_points  2575 non-null   float64\n",
            "dtypes: float64(11), int64(6), object(14)\n",
            "memory usage: 723.8+ KB\n"
          ]
        }
      ]
    },
    {
      "cell_type": "code",
      "metadata": {
        "id": "BsCYeWP9o1cS"
      },
      "source": [
        "df.dropna(subset = ['winner_rank', 'loser_rank', 'winner_rank_points', 'loser_rank_points'],\n",
        "inplace = True)  # удаление строк с пропусками в столбцах из списка"
      ],
      "execution_count": null,
      "outputs": []
    },
    {
      "cell_type": "code",
      "metadata": {
        "id": "U0wSGp5fjwra",
        "colab": {
          "base_uri": "https://localhost:8080/"
        },
        "outputId": "9cca0c5f-e5fa-4f44-bbc5-320ab6904bff"
      },
      "source": [
        "df.columns  # названия столбцов"
      ],
      "execution_count": null,
      "outputs": [
        {
          "output_type": "execute_result",
          "data": {
            "text/plain": [
              "Index(['tourney_id', 'tourney_name', 'surface', 'draw_size', 'tourney_level',\n",
              "       'tourney_date', 'match_num', 'winner_id', 'winner_seed', 'winner_entry',\n",
              "       'winner_name', 'winner_hand', 'winner_ht', 'winner_ioc', 'winner_age',\n",
              "       'winner_rank', 'winner_rank_points', 'loser_id', 'loser_seed',\n",
              "       'loser_entry', 'loser_name', 'loser_hand', 'loser_ht', 'loser_ioc',\n",
              "       'loser_age', 'loser_rank', 'loser_rank_points', 'score', 'best_of',\n",
              "       'round'],\n",
              "      dtype='object')"
            ]
          },
          "metadata": {},
          "execution_count": 7
        }
      ]
    },
    {
      "cell_type": "code",
      "metadata": {
        "id": "9yY5bG5Oj2VC",
        "colab": {
          "base_uri": "https://localhost:8080/"
        },
        "outputId": "39a4c608-5a43-4577-c0b6-05ad3f89fa12"
      },
      "source": [
        "df.shape  # размеры датафрейма"
      ],
      "execution_count": null,
      "outputs": [
        {
          "output_type": "execute_result",
          "data": {
            "text/plain": [
              "(2575, 30)"
            ]
          },
          "metadata": {},
          "execution_count": 8
        }
      ]
    },
    {
      "cell_type": "code",
      "metadata": {
        "id": "dDKPLqALj6Xp",
        "colab": {
          "base_uri": "https://localhost:8080/"
        },
        "outputId": "c2d26164-506d-41da-e163-3d1fb65889d0"
      },
      "source": [
        "df.dtypes  # типы значений в столбцах"
      ],
      "execution_count": null,
      "outputs": [
        {
          "output_type": "execute_result",
          "data": {
            "text/plain": [
              "tourney_id             object\n",
              "tourney_name           object\n",
              "surface                object\n",
              "draw_size               int64\n",
              "tourney_level          object\n",
              "tourney_date            int64\n",
              "match_num               int64\n",
              "winner_id               int64\n",
              "winner_seed           float64\n",
              "winner_entry           object\n",
              "winner_name            object\n",
              "winner_hand            object\n",
              "winner_ht             float64\n",
              "winner_ioc             object\n",
              "winner_age            float64\n",
              "winner_rank           float64\n",
              "winner_rank_points    float64\n",
              "loser_id                int64\n",
              "loser_seed            float64\n",
              "loser_entry            object\n",
              "loser_name             object\n",
              "loser_hand             object\n",
              "loser_ht              float64\n",
              "loser_ioc              object\n",
              "loser_age             float64\n",
              "loser_rank            float64\n",
              "loser_rank_points     float64\n",
              "score                  object\n",
              "best_of                 int64\n",
              "round                  object\n",
              "dtype: object"
            ]
          },
          "metadata": {},
          "execution_count": 9
        }
      ]
    },
    {
      "cell_type": "code",
      "metadata": {
        "id": "VU5pHK6lj_7T",
        "colab": {
          "base_uri": "https://localhost:8080/"
        },
        "outputId": "7e265ff9-31f5-402c-aaa8-6aa8a52cdc1d"
      },
      "source": [
        "df.info()  # вывод информации об измененном датафрейме"
      ],
      "execution_count": null,
      "outputs": [
        {
          "output_type": "stream",
          "name": "stdout",
          "text": [
            "<class 'pandas.core.frame.DataFrame'>\n",
            "Int64Index: 2575 entries, 0 to 2882\n",
            "Data columns (total 30 columns):\n",
            " #   Column              Non-Null Count  Dtype  \n",
            "---  ------              --------------  -----  \n",
            " 0   tourney_id          2575 non-null   object \n",
            " 1   tourney_name        2575 non-null   object \n",
            " 2   surface             2575 non-null   object \n",
            " 3   draw_size           2575 non-null   int64  \n",
            " 4   tourney_level       2575 non-null   object \n",
            " 5   tourney_date        2575 non-null   int64  \n",
            " 6   match_num           2575 non-null   int64  \n",
            " 7   winner_id           2575 non-null   int64  \n",
            " 8   winner_seed         1118 non-null   float64\n",
            " 9   winner_entry        299 non-null    object \n",
            " 10  winner_name         2575 non-null   object \n",
            " 11  winner_hand         2575 non-null   object \n",
            " 12  winner_ht           1008 non-null   float64\n",
            " 13  winner_ioc          2575 non-null   object \n",
            " 14  winner_age          2575 non-null   float64\n",
            " 15  winner_rank         2575 non-null   float64\n",
            " 16  winner_rank_points  2575 non-null   float64\n",
            " 17  loser_id            2575 non-null   int64  \n",
            " 18  loser_seed          551 non-null    float64\n",
            " 19  loser_entry         528 non-null    object \n",
            " 20  loser_name          2575 non-null   object \n",
            " 21  loser_hand          2575 non-null   object \n",
            " 22  loser_ht            638 non-null    float64\n",
            " 23  loser_ioc           2575 non-null   object \n",
            " 24  loser_age           2575 non-null   float64\n",
            " 25  loser_rank          2575 non-null   float64\n",
            " 26  loser_rank_points   2575 non-null   float64\n",
            " 27  score               2575 non-null   object \n",
            " 28  best_of             2575 non-null   int64  \n",
            " 29  round               2575 non-null   object \n",
            "dtypes: float64(10), int64(6), object(14)\n",
            "memory usage: 623.6+ KB\n"
          ]
        }
      ]
    },
    {
      "cell_type": "code",
      "metadata": {
        "id": "NTloL4hQkTSq",
        "colab": {
          "base_uri": "https://localhost:8080/",
          "height": 444
        },
        "outputId": "7f123c43-b92a-415d-e18f-0bd7c2f351be"
      },
      "source": [
        "df.head()  # первые 5 строк датафрейма"
      ],
      "execution_count": null,
      "outputs": [
        {
          "output_type": "execute_result",
          "data": {
            "text/html": [
              "\n",
              "  <div id=\"df-163e8df7-b23c-4eb5-af10-3472895dd6c4\">\n",
              "    <div class=\"colab-df-container\">\n",
              "      <div>\n",
              "<style scoped>\n",
              "    .dataframe tbody tr th:only-of-type {\n",
              "        vertical-align: middle;\n",
              "    }\n",
              "\n",
              "    .dataframe tbody tr th {\n",
              "        vertical-align: top;\n",
              "    }\n",
              "\n",
              "    .dataframe thead th {\n",
              "        text-align: right;\n",
              "    }\n",
              "</style>\n",
              "<table border=\"1\" class=\"dataframe\">\n",
              "  <thead>\n",
              "    <tr style=\"text-align: right;\">\n",
              "      <th></th>\n",
              "      <th>tourney_id</th>\n",
              "      <th>tourney_name</th>\n",
              "      <th>surface</th>\n",
              "      <th>draw_size</th>\n",
              "      <th>tourney_level</th>\n",
              "      <th>tourney_date</th>\n",
              "      <th>match_num</th>\n",
              "      <th>winner_id</th>\n",
              "      <th>winner_seed</th>\n",
              "      <th>winner_entry</th>\n",
              "      <th>winner_name</th>\n",
              "      <th>winner_hand</th>\n",
              "      <th>winner_ht</th>\n",
              "      <th>winner_ioc</th>\n",
              "      <th>winner_age</th>\n",
              "      <th>winner_rank</th>\n",
              "      <th>winner_rank_points</th>\n",
              "      <th>loser_id</th>\n",
              "      <th>loser_seed</th>\n",
              "      <th>loser_entry</th>\n",
              "      <th>loser_name</th>\n",
              "      <th>loser_hand</th>\n",
              "      <th>loser_ht</th>\n",
              "      <th>loser_ioc</th>\n",
              "      <th>loser_age</th>\n",
              "      <th>loser_rank</th>\n",
              "      <th>loser_rank_points</th>\n",
              "      <th>score</th>\n",
              "      <th>best_of</th>\n",
              "      <th>round</th>\n",
              "    </tr>\n",
              "  </thead>\n",
              "  <tbody>\n",
              "    <tr>\n",
              "      <th>0</th>\n",
              "      <td>2000-W-SL-AUS-01A-2000</td>\n",
              "      <td>Australian Open</td>\n",
              "      <td>Hard</td>\n",
              "      <td>128</td>\n",
              "      <td>G</td>\n",
              "      <td>20000117</td>\n",
              "      <td>1</td>\n",
              "      <td>200001</td>\n",
              "      <td>1.0</td>\n",
              "      <td>NaN</td>\n",
              "      <td>Martina Hingis</td>\n",
              "      <td>R</td>\n",
              "      <td>170.0</td>\n",
              "      <td>SUI</td>\n",
              "      <td>19.296372</td>\n",
              "      <td>1.0</td>\n",
              "      <td>6003.0</td>\n",
              "      <td>200002</td>\n",
              "      <td>NaN</td>\n",
              "      <td>NaN</td>\n",
              "      <td>Mirjana Lucic</td>\n",
              "      <td>R</td>\n",
              "      <td>NaN</td>\n",
              "      <td>CRO</td>\n",
              "      <td>17.859001</td>\n",
              "      <td>49.0</td>\n",
              "      <td>640.0</td>\n",
              "      <td>6-1 6-2</td>\n",
              "      <td>3</td>\n",
              "      <td>R128</td>\n",
              "    </tr>\n",
              "    <tr>\n",
              "      <th>1</th>\n",
              "      <td>2000-W-SL-AUS-01A-2000</td>\n",
              "      <td>Australian Open</td>\n",
              "      <td>Hard</td>\n",
              "      <td>128</td>\n",
              "      <td>G</td>\n",
              "      <td>20000117</td>\n",
              "      <td>2</td>\n",
              "      <td>200003</td>\n",
              "      <td>NaN</td>\n",
              "      <td>NaN</td>\n",
              "      <td>Justine Henin</td>\n",
              "      <td>R</td>\n",
              "      <td>167.0</td>\n",
              "      <td>BEL</td>\n",
              "      <td>17.629021</td>\n",
              "      <td>63.0</td>\n",
              "      <td>510.0</td>\n",
              "      <td>200004</td>\n",
              "      <td>NaN</td>\n",
              "      <td>Q</td>\n",
              "      <td>Kerry Anne Guse</td>\n",
              "      <td>R</td>\n",
              "      <td>NaN</td>\n",
              "      <td>AUS</td>\n",
              "      <td>27.118412</td>\n",
              "      <td>133.0</td>\n",
              "      <td>199.0</td>\n",
              "      <td>6-4 6-2</td>\n",
              "      <td>3</td>\n",
              "      <td>R128</td>\n",
              "    </tr>\n",
              "    <tr>\n",
              "      <th>2</th>\n",
              "      <td>2000-W-SL-AUS-01A-2000</td>\n",
              "      <td>Australian Open</td>\n",
              "      <td>Hard</td>\n",
              "      <td>128</td>\n",
              "      <td>G</td>\n",
              "      <td>20000117</td>\n",
              "      <td>3</td>\n",
              "      <td>200006</td>\n",
              "      <td>NaN</td>\n",
              "      <td>NaN</td>\n",
              "      <td>Karina Habsudova</td>\n",
              "      <td>R</td>\n",
              "      <td>NaN</td>\n",
              "      <td>SVK</td>\n",
              "      <td>26.458590</td>\n",
              "      <td>53.0</td>\n",
              "      <td>574.0</td>\n",
              "      <td>200005</td>\n",
              "      <td>NaN</td>\n",
              "      <td>NaN</td>\n",
              "      <td>Jolene Watanabe Giltz</td>\n",
              "      <td>R</td>\n",
              "      <td>NaN</td>\n",
              "      <td>USA</td>\n",
              "      <td>31.378508</td>\n",
              "      <td>118.0</td>\n",
              "      <td>243.0</td>\n",
              "      <td>6-0 6-1</td>\n",
              "      <td>3</td>\n",
              "      <td>R128</td>\n",
              "    </tr>\n",
              "    <tr>\n",
              "      <th>3</th>\n",
              "      <td>2000-W-SL-AUS-01A-2000</td>\n",
              "      <td>Australian Open</td>\n",
              "      <td>Hard</td>\n",
              "      <td>128</td>\n",
              "      <td>G</td>\n",
              "      <td>20000117</td>\n",
              "      <td>4</td>\n",
              "      <td>200008</td>\n",
              "      <td>NaN</td>\n",
              "      <td>NaN</td>\n",
              "      <td>Alicia Molik</td>\n",
              "      <td>R</td>\n",
              "      <td>182.0</td>\n",
              "      <td>AUS</td>\n",
              "      <td>18.970568</td>\n",
              "      <td>116.0</td>\n",
              "      <td>245.0</td>\n",
              "      <td>200007</td>\n",
              "      <td>NaN</td>\n",
              "      <td>NaN</td>\n",
              "      <td>Silvija Talaja</td>\n",
              "      <td>R</td>\n",
              "      <td>NaN</td>\n",
              "      <td>CRO</td>\n",
              "      <td>22.006845</td>\n",
              "      <td>23.0</td>\n",
              "      <td>1112.0</td>\n",
              "      <td>6-1 5-7 7-5</td>\n",
              "      <td>3</td>\n",
              "      <td>R128</td>\n",
              "    </tr>\n",
              "    <tr>\n",
              "      <th>4</th>\n",
              "      <td>2000-W-SL-AUS-01A-2000</td>\n",
              "      <td>Australian Open</td>\n",
              "      <td>Hard</td>\n",
              "      <td>128</td>\n",
              "      <td>G</td>\n",
              "      <td>20000117</td>\n",
              "      <td>5</td>\n",
              "      <td>200009</td>\n",
              "      <td>NaN</td>\n",
              "      <td>NaN</td>\n",
              "      <td>Tamarine Tanasugarn</td>\n",
              "      <td>R</td>\n",
              "      <td>165.0</td>\n",
              "      <td>THA</td>\n",
              "      <td>22.650240</td>\n",
              "      <td>72.0</td>\n",
              "      <td>439.0</td>\n",
              "      <td>200010</td>\n",
              "      <td>NaN</td>\n",
              "      <td>NaN</td>\n",
              "      <td>Rita Grande</td>\n",
              "      <td>R</td>\n",
              "      <td>NaN</td>\n",
              "      <td>ITA</td>\n",
              "      <td>24.821355</td>\n",
              "      <td>60.0</td>\n",
              "      <td>516.0</td>\n",
              "      <td>6-3 6-4</td>\n",
              "      <td>3</td>\n",
              "      <td>R128</td>\n",
              "    </tr>\n",
              "  </tbody>\n",
              "</table>\n",
              "</div>\n",
              "      <button class=\"colab-df-convert\" onclick=\"convertToInteractive('df-163e8df7-b23c-4eb5-af10-3472895dd6c4')\"\n",
              "              title=\"Convert this dataframe to an interactive table.\"\n",
              "              style=\"display:none;\">\n",
              "        \n",
              "  <svg xmlns=\"http://www.w3.org/2000/svg\" height=\"24px\"viewBox=\"0 0 24 24\"\n",
              "       width=\"24px\">\n",
              "    <path d=\"M0 0h24v24H0V0z\" fill=\"none\"/>\n",
              "    <path d=\"M18.56 5.44l.94 2.06.94-2.06 2.06-.94-2.06-.94-.94-2.06-.94 2.06-2.06.94zm-11 1L8.5 8.5l.94-2.06 2.06-.94-2.06-.94L8.5 2.5l-.94 2.06-2.06.94zm10 10l.94 2.06.94-2.06 2.06-.94-2.06-.94-.94-2.06-.94 2.06-2.06.94z\"/><path d=\"M17.41 7.96l-1.37-1.37c-.4-.4-.92-.59-1.43-.59-.52 0-1.04.2-1.43.59L10.3 9.45l-7.72 7.72c-.78.78-.78 2.05 0 2.83L4 21.41c.39.39.9.59 1.41.59.51 0 1.02-.2 1.41-.59l7.78-7.78 2.81-2.81c.8-.78.8-2.07 0-2.86zM5.41 20L4 18.59l7.72-7.72 1.47 1.35L5.41 20z\"/>\n",
              "  </svg>\n",
              "      </button>\n",
              "      \n",
              "  <style>\n",
              "    .colab-df-container {\n",
              "      display:flex;\n",
              "      flex-wrap:wrap;\n",
              "      gap: 12px;\n",
              "    }\n",
              "\n",
              "    .colab-df-convert {\n",
              "      background-color: #E8F0FE;\n",
              "      border: none;\n",
              "      border-radius: 50%;\n",
              "      cursor: pointer;\n",
              "      display: none;\n",
              "      fill: #1967D2;\n",
              "      height: 32px;\n",
              "      padding: 0 0 0 0;\n",
              "      width: 32px;\n",
              "    }\n",
              "\n",
              "    .colab-df-convert:hover {\n",
              "      background-color: #E2EBFA;\n",
              "      box-shadow: 0px 1px 2px rgba(60, 64, 67, 0.3), 0px 1px 3px 1px rgba(60, 64, 67, 0.15);\n",
              "      fill: #174EA6;\n",
              "    }\n",
              "\n",
              "    [theme=dark] .colab-df-convert {\n",
              "      background-color: #3B4455;\n",
              "      fill: #D2E3FC;\n",
              "    }\n",
              "\n",
              "    [theme=dark] .colab-df-convert:hover {\n",
              "      background-color: #434B5C;\n",
              "      box-shadow: 0px 1px 3px 1px rgba(0, 0, 0, 0.15);\n",
              "      filter: drop-shadow(0px 1px 2px rgba(0, 0, 0, 0.3));\n",
              "      fill: #FFFFFF;\n",
              "    }\n",
              "  </style>\n",
              "\n",
              "      <script>\n",
              "        const buttonEl =\n",
              "          document.querySelector('#df-163e8df7-b23c-4eb5-af10-3472895dd6c4 button.colab-df-convert');\n",
              "        buttonEl.style.display =\n",
              "          google.colab.kernel.accessAllowed ? 'block' : 'none';\n",
              "\n",
              "        async function convertToInteractive(key) {\n",
              "          const element = document.querySelector('#df-163e8df7-b23c-4eb5-af10-3472895dd6c4');\n",
              "          const dataTable =\n",
              "            await google.colab.kernel.invokeFunction('convertToInteractive',\n",
              "                                                     [key], {});\n",
              "          if (!dataTable) return;\n",
              "\n",
              "          const docLinkHtml = 'Like what you see? Visit the ' +\n",
              "            '<a target=\"_blank\" href=https://colab.research.google.com/notebooks/data_table.ipynb>data table notebook</a>'\n",
              "            + ' to learn more about interactive tables.';\n",
              "          element.innerHTML = '';\n",
              "          dataTable['output_type'] = 'display_data';\n",
              "          await google.colab.output.renderOutput(dataTable, element);\n",
              "          const docLink = document.createElement('div');\n",
              "          docLink.innerHTML = docLinkHtml;\n",
              "          element.appendChild(docLink);\n",
              "        }\n",
              "      </script>\n",
              "    </div>\n",
              "  </div>\n",
              "  "
            ],
            "text/plain": [
              "               tourney_id     tourney_name surface  ...        score best_of  round\n",
              "0  2000-W-SL-AUS-01A-2000  Australian Open    Hard  ...      6-1 6-2       3   R128\n",
              "1  2000-W-SL-AUS-01A-2000  Australian Open    Hard  ...      6-4 6-2       3   R128\n",
              "2  2000-W-SL-AUS-01A-2000  Australian Open    Hard  ...      6-0 6-1       3   R128\n",
              "3  2000-W-SL-AUS-01A-2000  Australian Open    Hard  ...  6-1 5-7 7-5       3   R128\n",
              "4  2000-W-SL-AUS-01A-2000  Australian Open    Hard  ...      6-3 6-4       3   R128\n",
              "\n",
              "[5 rows x 30 columns]"
            ]
          },
          "metadata": {},
          "execution_count": 12
        }
      ]
    },
    {
      "cell_type": "code",
      "metadata": {
        "id": "h1VeTC3HkX05",
        "colab": {
          "base_uri": "https://localhost:8080/",
          "height": 444
        },
        "outputId": "e4ce9c85-efac-4d1d-a6cf-35f31afe93b7"
      },
      "source": [
        "df.tail()  # последние 5 строк датафрейма"
      ],
      "execution_count": null,
      "outputs": [
        {
          "output_type": "execute_result",
          "data": {
            "text/html": [
              "\n",
              "  <div id=\"df-44d77d1f-0214-42c7-bf32-950b80012d0c\">\n",
              "    <div class=\"colab-df-container\">\n",
              "      <div>\n",
              "<style scoped>\n",
              "    .dataframe tbody tr th:only-of-type {\n",
              "        vertical-align: middle;\n",
              "    }\n",
              "\n",
              "    .dataframe tbody tr th {\n",
              "        vertical-align: top;\n",
              "    }\n",
              "\n",
              "    .dataframe thead th {\n",
              "        text-align: right;\n",
              "    }\n",
              "</style>\n",
              "<table border=\"1\" class=\"dataframe\">\n",
              "  <thead>\n",
              "    <tr style=\"text-align: right;\">\n",
              "      <th></th>\n",
              "      <th>tourney_id</th>\n",
              "      <th>tourney_name</th>\n",
              "      <th>surface</th>\n",
              "      <th>draw_size</th>\n",
              "      <th>tourney_level</th>\n",
              "      <th>tourney_date</th>\n",
              "      <th>match_num</th>\n",
              "      <th>winner_id</th>\n",
              "      <th>winner_seed</th>\n",
              "      <th>winner_entry</th>\n",
              "      <th>winner_name</th>\n",
              "      <th>winner_hand</th>\n",
              "      <th>winner_ht</th>\n",
              "      <th>winner_ioc</th>\n",
              "      <th>winner_age</th>\n",
              "      <th>winner_rank</th>\n",
              "      <th>winner_rank_points</th>\n",
              "      <th>loser_id</th>\n",
              "      <th>loser_seed</th>\n",
              "      <th>loser_entry</th>\n",
              "      <th>loser_name</th>\n",
              "      <th>loser_hand</th>\n",
              "      <th>loser_ht</th>\n",
              "      <th>loser_ioc</th>\n",
              "      <th>loser_age</th>\n",
              "      <th>loser_rank</th>\n",
              "      <th>loser_rank_points</th>\n",
              "      <th>score</th>\n",
              "      <th>best_of</th>\n",
              "      <th>round</th>\n",
              "    </tr>\n",
              "  </thead>\n",
              "  <tbody>\n",
              "    <tr>\n",
              "      <th>2872</th>\n",
              "      <td>2000-D206</td>\n",
              "      <td>Fed Cup G1 RRA: HKG vs IND</td>\n",
              "      <td>Hard</td>\n",
              "      <td>4</td>\n",
              "      <td>D</td>\n",
              "      <td>20000429</td>\n",
              "      <td>2</td>\n",
              "      <td>200743</td>\n",
              "      <td>NaN</td>\n",
              "      <td>NaN</td>\n",
              "      <td>Nirupama Sanjeev</td>\n",
              "      <td>R</td>\n",
              "      <td>NaN</td>\n",
              "      <td>IND</td>\n",
              "      <td>23.375770</td>\n",
              "      <td>224.0</td>\n",
              "      <td>92.0</td>\n",
              "      <td>202774</td>\n",
              "      <td>NaN</td>\n",
              "      <td>NaN</td>\n",
              "      <td>Ka Po Tong</td>\n",
              "      <td>U</td>\n",
              "      <td>NaN</td>\n",
              "      <td>HKG</td>\n",
              "      <td>19.104723</td>\n",
              "      <td>460.0</td>\n",
              "      <td>23.0</td>\n",
              "      <td>6-1 7-5</td>\n",
              "      <td>3</td>\n",
              "      <td>RR</td>\n",
              "    </tr>\n",
              "    <tr>\n",
              "      <th>2874</th>\n",
              "      <td>2000-D207</td>\n",
              "      <td>Fed Cup G1 RRA: JPN vs HKG</td>\n",
              "      <td>Hard</td>\n",
              "      <td>4</td>\n",
              "      <td>D</td>\n",
              "      <td>20000427</td>\n",
              "      <td>2</td>\n",
              "      <td>201085</td>\n",
              "      <td>NaN</td>\n",
              "      <td>NaN</td>\n",
              "      <td>Shinobu Asagoe</td>\n",
              "      <td>R</td>\n",
              "      <td>NaN</td>\n",
              "      <td>JPN</td>\n",
              "      <td>23.822040</td>\n",
              "      <td>126.0</td>\n",
              "      <td>205.0</td>\n",
              "      <td>202774</td>\n",
              "      <td>NaN</td>\n",
              "      <td>NaN</td>\n",
              "      <td>Ka Po Tong</td>\n",
              "      <td>U</td>\n",
              "      <td>NaN</td>\n",
              "      <td>HKG</td>\n",
              "      <td>19.104723</td>\n",
              "      <td>460.0</td>\n",
              "      <td>23.0</td>\n",
              "      <td>6-1 6-1</td>\n",
              "      <td>3</td>\n",
              "      <td>RR</td>\n",
              "    </tr>\n",
              "    <tr>\n",
              "      <th>2878</th>\n",
              "      <td>2000-D209</td>\n",
              "      <td>Fed Cup G1 RRA: HKG vs THA</td>\n",
              "      <td>Hard</td>\n",
              "      <td>4</td>\n",
              "      <td>D</td>\n",
              "      <td>20000428</td>\n",
              "      <td>2</td>\n",
              "      <td>200009</td>\n",
              "      <td>NaN</td>\n",
              "      <td>NaN</td>\n",
              "      <td>Tamarine Tanasugarn</td>\n",
              "      <td>R</td>\n",
              "      <td>165.0</td>\n",
              "      <td>THA</td>\n",
              "      <td>22.918549</td>\n",
              "      <td>62.0</td>\n",
              "      <td>542.0</td>\n",
              "      <td>202774</td>\n",
              "      <td>NaN</td>\n",
              "      <td>NaN</td>\n",
              "      <td>Ka Po Tong</td>\n",
              "      <td>U</td>\n",
              "      <td>NaN</td>\n",
              "      <td>HKG</td>\n",
              "      <td>19.104723</td>\n",
              "      <td>460.0</td>\n",
              "      <td>23.0</td>\n",
              "      <td>6-3 6-4</td>\n",
              "      <td>3</td>\n",
              "      <td>RR</td>\n",
              "    </tr>\n",
              "    <tr>\n",
              "      <th>2880</th>\n",
              "      <td>2000-D210</td>\n",
              "      <td>Fed Cup G1 RRB: INA vs KOR</td>\n",
              "      <td>Hard</td>\n",
              "      <td>4</td>\n",
              "      <td>D</td>\n",
              "      <td>20000426</td>\n",
              "      <td>2</td>\n",
              "      <td>201295</td>\n",
              "      <td>NaN</td>\n",
              "      <td>NaN</td>\n",
              "      <td>Wynne Prakusya</td>\n",
              "      <td>R</td>\n",
              "      <td>NaN</td>\n",
              "      <td>INA</td>\n",
              "      <td>18.995209</td>\n",
              "      <td>170.0</td>\n",
              "      <td>138.0</td>\n",
              "      <td>201313</td>\n",
              "      <td>NaN</td>\n",
              "      <td>NaN</td>\n",
              "      <td>Yoon Jeong Cho</td>\n",
              "      <td>R</td>\n",
              "      <td>NaN</td>\n",
              "      <td>KOR</td>\n",
              "      <td>21.062286</td>\n",
              "      <td>230.0</td>\n",
              "      <td>87.0</td>\n",
              "      <td>3-6 7-6(4) 6-4</td>\n",
              "      <td>3</td>\n",
              "      <td>RR</td>\n",
              "    </tr>\n",
              "    <tr>\n",
              "      <th>2882</th>\n",
              "      <td>2000-D211</td>\n",
              "      <td>Fed Cup G1 RRB: INA vs NZL</td>\n",
              "      <td>Hard</td>\n",
              "      <td>4</td>\n",
              "      <td>D</td>\n",
              "      <td>20000425</td>\n",
              "      <td>2</td>\n",
              "      <td>201295</td>\n",
              "      <td>NaN</td>\n",
              "      <td>NaN</td>\n",
              "      <td>Wynne Prakusya</td>\n",
              "      <td>R</td>\n",
              "      <td>NaN</td>\n",
              "      <td>INA</td>\n",
              "      <td>18.995209</td>\n",
              "      <td>170.0</td>\n",
              "      <td>138.0</td>\n",
              "      <td>201754</td>\n",
              "      <td>NaN</td>\n",
              "      <td>NaN</td>\n",
              "      <td>Leanne Baker</td>\n",
              "      <td>L</td>\n",
              "      <td>NaN</td>\n",
              "      <td>NZL</td>\n",
              "      <td>19.290897</td>\n",
              "      <td>325.0</td>\n",
              "      <td>50.0</td>\n",
              "      <td>6-2 7-6(7)</td>\n",
              "      <td>3</td>\n",
              "      <td>RR</td>\n",
              "    </tr>\n",
              "  </tbody>\n",
              "</table>\n",
              "</div>\n",
              "      <button class=\"colab-df-convert\" onclick=\"convertToInteractive('df-44d77d1f-0214-42c7-bf32-950b80012d0c')\"\n",
              "              title=\"Convert this dataframe to an interactive table.\"\n",
              "              style=\"display:none;\">\n",
              "        \n",
              "  <svg xmlns=\"http://www.w3.org/2000/svg\" height=\"24px\"viewBox=\"0 0 24 24\"\n",
              "       width=\"24px\">\n",
              "    <path d=\"M0 0h24v24H0V0z\" fill=\"none\"/>\n",
              "    <path d=\"M18.56 5.44l.94 2.06.94-2.06 2.06-.94-2.06-.94-.94-2.06-.94 2.06-2.06.94zm-11 1L8.5 8.5l.94-2.06 2.06-.94-2.06-.94L8.5 2.5l-.94 2.06-2.06.94zm10 10l.94 2.06.94-2.06 2.06-.94-2.06-.94-.94-2.06-.94 2.06-2.06.94z\"/><path d=\"M17.41 7.96l-1.37-1.37c-.4-.4-.92-.59-1.43-.59-.52 0-1.04.2-1.43.59L10.3 9.45l-7.72 7.72c-.78.78-.78 2.05 0 2.83L4 21.41c.39.39.9.59 1.41.59.51 0 1.02-.2 1.41-.59l7.78-7.78 2.81-2.81c.8-.78.8-2.07 0-2.86zM5.41 20L4 18.59l7.72-7.72 1.47 1.35L5.41 20z\"/>\n",
              "  </svg>\n",
              "      </button>\n",
              "      \n",
              "  <style>\n",
              "    .colab-df-container {\n",
              "      display:flex;\n",
              "      flex-wrap:wrap;\n",
              "      gap: 12px;\n",
              "    }\n",
              "\n",
              "    .colab-df-convert {\n",
              "      background-color: #E8F0FE;\n",
              "      border: none;\n",
              "      border-radius: 50%;\n",
              "      cursor: pointer;\n",
              "      display: none;\n",
              "      fill: #1967D2;\n",
              "      height: 32px;\n",
              "      padding: 0 0 0 0;\n",
              "      width: 32px;\n",
              "    }\n",
              "\n",
              "    .colab-df-convert:hover {\n",
              "      background-color: #E2EBFA;\n",
              "      box-shadow: 0px 1px 2px rgba(60, 64, 67, 0.3), 0px 1px 3px 1px rgba(60, 64, 67, 0.15);\n",
              "      fill: #174EA6;\n",
              "    }\n",
              "\n",
              "    [theme=dark] .colab-df-convert {\n",
              "      background-color: #3B4455;\n",
              "      fill: #D2E3FC;\n",
              "    }\n",
              "\n",
              "    [theme=dark] .colab-df-convert:hover {\n",
              "      background-color: #434B5C;\n",
              "      box-shadow: 0px 1px 3px 1px rgba(0, 0, 0, 0.15);\n",
              "      filter: drop-shadow(0px 1px 2px rgba(0, 0, 0, 0.3));\n",
              "      fill: #FFFFFF;\n",
              "    }\n",
              "  </style>\n",
              "\n",
              "      <script>\n",
              "        const buttonEl =\n",
              "          document.querySelector('#df-44d77d1f-0214-42c7-bf32-950b80012d0c button.colab-df-convert');\n",
              "        buttonEl.style.display =\n",
              "          google.colab.kernel.accessAllowed ? 'block' : 'none';\n",
              "\n",
              "        async function convertToInteractive(key) {\n",
              "          const element = document.querySelector('#df-44d77d1f-0214-42c7-bf32-950b80012d0c');\n",
              "          const dataTable =\n",
              "            await google.colab.kernel.invokeFunction('convertToInteractive',\n",
              "                                                     [key], {});\n",
              "          if (!dataTable) return;\n",
              "\n",
              "          const docLinkHtml = 'Like what you see? Visit the ' +\n",
              "            '<a target=\"_blank\" href=https://colab.research.google.com/notebooks/data_table.ipynb>data table notebook</a>'\n",
              "            + ' to learn more about interactive tables.';\n",
              "          element.innerHTML = '';\n",
              "          dataTable['output_type'] = 'display_data';\n",
              "          await google.colab.output.renderOutput(dataTable, element);\n",
              "          const docLink = document.createElement('div');\n",
              "          docLink.innerHTML = docLinkHtml;\n",
              "          element.appendChild(docLink);\n",
              "        }\n",
              "      </script>\n",
              "    </div>\n",
              "  </div>\n",
              "  "
            ],
            "text/plain": [
              "     tourney_id                tourney_name  ... best_of  round\n",
              "2872  2000-D206  Fed Cup G1 RRA: HKG vs IND  ...       3     RR\n",
              "2874  2000-D207  Fed Cup G1 RRA: JPN vs HKG  ...       3     RR\n",
              "2878  2000-D209  Fed Cup G1 RRA: HKG vs THA  ...       3     RR\n",
              "2880  2000-D210  Fed Cup G1 RRB: INA vs KOR  ...       3     RR\n",
              "2882  2000-D211  Fed Cup G1 RRB: INA vs NZL  ...       3     RR\n",
              "\n",
              "[5 rows x 30 columns]"
            ]
          },
          "metadata": {},
          "execution_count": 13
        }
      ]
    },
    {
      "cell_type": "markdown",
      "metadata": {
        "id": "0gNfp6v9dAdy"
      },
      "source": [
        "# 2. Посчитать статистические показатели: - медиана, - мода, - средняя, - минимум, - максимум."
      ]
    },
    {
      "cell_type": "markdown",
      "metadata": {
        "id": "Lz-tSLOFtIY6"
      },
      "source": [
        "Работаем со столбцом \"winner_rank_points\""
      ]
    },
    {
      "cell_type": "code",
      "metadata": {
        "colab": {
          "base_uri": "https://localhost:8080/"
        },
        "id": "bW4FoRmSrNcJ",
        "outputId": "f20de961-f01d-4e40-dfe6-5c95be4aea3e"
      },
      "source": [
        "df['winner_rank_points'].median()  # подсчет медианы"
      ],
      "execution_count": null,
      "outputs": [
        {
          "output_type": "execute_result",
          "data": {
            "text/plain": [
              "745.0"
            ]
          },
          "metadata": {},
          "execution_count": 14
        }
      ]
    },
    {
      "cell_type": "code",
      "metadata": {
        "colab": {
          "base_uri": "https://localhost:8080/"
        },
        "id": "j_uX-TgTrYGy",
        "outputId": "5eae7e0a-4385-4fb2-85e6-95e19d476ef0"
      },
      "source": [
        "df['winner_rank_points'].mode()  # подсчет моды"
      ],
      "execution_count": null,
      "outputs": [
        {
          "output_type": "execute_result",
          "data": {
            "text/plain": [
              "0    347.0\n",
              "dtype: float64"
            ]
          },
          "metadata": {},
          "execution_count": 15
        }
      ]
    },
    {
      "cell_type": "code",
      "metadata": {
        "colab": {
          "base_uri": "https://localhost:8080/"
        },
        "id": "0LsWbwHOrggJ",
        "outputId": "2474dcd3-a014-45ee-fb50-41015b6fa3ea"
      },
      "source": [
        "df['winner_rank_points'].mean()  # подсчет среднего"
      ],
      "execution_count": null,
      "outputs": [
        {
          "output_type": "execute_result",
          "data": {
            "text/plain": [
              "1185.827572815534"
            ]
          },
          "metadata": {},
          "execution_count": 16
        }
      ]
    },
    {
      "cell_type": "code",
      "metadata": {
        "colab": {
          "base_uri": "https://localhost:8080/"
        },
        "id": "aUH1XXIWriqB",
        "outputId": "6a60d0da-d3ec-4cef-be9b-771a4264487b"
      },
      "source": [
        "df['winner_rank_points'].min()  # подсчет минимума"
      ],
      "execution_count": null,
      "outputs": [
        {
          "output_type": "execute_result",
          "data": {
            "text/plain": [
              "2.0"
            ]
          },
          "metadata": {},
          "execution_count": 17
        }
      ]
    },
    {
      "cell_type": "code",
      "metadata": {
        "colab": {
          "base_uri": "https://localhost:8080/"
        },
        "id": "nvaO27M3rjSR",
        "outputId": "d152f93f-6c87-4678-9ed2-7f875c05e7d5"
      },
      "source": [
        "df['winner_rank_points'].max()  # подсчет максимума"
      ],
      "execution_count": null,
      "outputs": [
        {
          "output_type": "execute_result",
          "data": {
            "text/plain": [
              "6145.0"
            ]
          },
          "metadata": {},
          "execution_count": 18
        }
      ]
    },
    {
      "cell_type": "markdown",
      "metadata": {
        "id": "C_2qeSgwdE_b"
      },
      "source": [
        "# 3. Создать новый столбец, в котором разместить разницу между максимумом и текущим значением для некоторого числового параметра."
      ]
    },
    {
      "cell_type": "markdown",
      "metadata": {
        "id": "rlYggEx_tQG0"
      },
      "source": [
        "Работаем со столбцом \"winner_rank_points\", новый столбец \"max_minus_winner_rank_points\""
      ]
    },
    {
      "cell_type": "code",
      "metadata": {
        "id": "ZKQDfH_RdF-Z"
      },
      "source": [
        "# создаем столбец в соответствии с заданием\n",
        "df['max_minus_winner_rank_points'] = df['winner_rank_points'].max() - df['winner_rank_points']"
      ],
      "execution_count": null,
      "outputs": []
    },
    {
      "cell_type": "code",
      "metadata": {
        "id": "WckN8tRBstXB",
        "colab": {
          "base_uri": "https://localhost:8080/"
        },
        "outputId": "896125d0-72ec-438d-e37f-dedc4625eb45"
      },
      "source": [
        "df.info()  # выводим информацию, чтобы проверить"
      ],
      "execution_count": null,
      "outputs": [
        {
          "output_type": "stream",
          "name": "stdout",
          "text": [
            "<class 'pandas.core.frame.DataFrame'>\n",
            "Int64Index: 2575 entries, 0 to 2882\n",
            "Data columns (total 31 columns):\n",
            " #   Column                        Non-Null Count  Dtype  \n",
            "---  ------                        --------------  -----  \n",
            " 0   tourney_id                    2575 non-null   object \n",
            " 1   tourney_name                  2575 non-null   object \n",
            " 2   surface                       2575 non-null   object \n",
            " 3   draw_size                     2575 non-null   int64  \n",
            " 4   tourney_level                 2575 non-null   object \n",
            " 5   tourney_date                  2575 non-null   int64  \n",
            " 6   match_num                     2575 non-null   int64  \n",
            " 7   winner_id                     2575 non-null   int64  \n",
            " 8   winner_seed                   1118 non-null   float64\n",
            " 9   winner_entry                  299 non-null    object \n",
            " 10  winner_name                   2575 non-null   object \n",
            " 11  winner_hand                   2575 non-null   object \n",
            " 12  winner_ht                     1008 non-null   float64\n",
            " 13  winner_ioc                    2575 non-null   object \n",
            " 14  winner_age                    2575 non-null   float64\n",
            " 15  winner_rank                   2575 non-null   float64\n",
            " 16  winner_rank_points            2575 non-null   float64\n",
            " 17  loser_id                      2575 non-null   int64  \n",
            " 18  loser_seed                    551 non-null    float64\n",
            " 19  loser_entry                   528 non-null    object \n",
            " 20  loser_name                    2575 non-null   object \n",
            " 21  loser_hand                    2575 non-null   object \n",
            " 22  loser_ht                      638 non-null    float64\n",
            " 23  loser_ioc                     2575 non-null   object \n",
            " 24  loser_age                     2575 non-null   float64\n",
            " 25  loser_rank                    2575 non-null   float64\n",
            " 26  loser_rank_points             2575 non-null   float64\n",
            " 27  score                         2575 non-null   object \n",
            " 28  best_of                       2575 non-null   int64  \n",
            " 29  round                         2575 non-null   object \n",
            " 30  max_minus_winner_rank_points  2575 non-null   float64\n",
            "dtypes: float64(11), int64(6), object(14)\n",
            "memory usage: 643.8+ KB\n"
          ]
        }
      ]
    },
    {
      "cell_type": "code",
      "metadata": {
        "id": "6NXL8Xy6sxo4",
        "colab": {
          "base_uri": "https://localhost:8080/",
          "height": 444
        },
        "outputId": "1b47f5de-827d-4330-c008-26a7e599effc"
      },
      "source": [
        "df.head()  # просматриваем первые 5 строк"
      ],
      "execution_count": null,
      "outputs": [
        {
          "output_type": "execute_result",
          "data": {
            "text/html": [
              "\n",
              "  <div id=\"df-61abb476-3233-4cc1-8565-19d310a6e742\">\n",
              "    <div class=\"colab-df-container\">\n",
              "      <div>\n",
              "<style scoped>\n",
              "    .dataframe tbody tr th:only-of-type {\n",
              "        vertical-align: middle;\n",
              "    }\n",
              "\n",
              "    .dataframe tbody tr th {\n",
              "        vertical-align: top;\n",
              "    }\n",
              "\n",
              "    .dataframe thead th {\n",
              "        text-align: right;\n",
              "    }\n",
              "</style>\n",
              "<table border=\"1\" class=\"dataframe\">\n",
              "  <thead>\n",
              "    <tr style=\"text-align: right;\">\n",
              "      <th></th>\n",
              "      <th>tourney_id</th>\n",
              "      <th>tourney_name</th>\n",
              "      <th>surface</th>\n",
              "      <th>draw_size</th>\n",
              "      <th>tourney_level</th>\n",
              "      <th>tourney_date</th>\n",
              "      <th>match_num</th>\n",
              "      <th>winner_id</th>\n",
              "      <th>winner_seed</th>\n",
              "      <th>winner_entry</th>\n",
              "      <th>winner_name</th>\n",
              "      <th>winner_hand</th>\n",
              "      <th>winner_ht</th>\n",
              "      <th>winner_ioc</th>\n",
              "      <th>winner_age</th>\n",
              "      <th>winner_rank</th>\n",
              "      <th>winner_rank_points</th>\n",
              "      <th>loser_id</th>\n",
              "      <th>loser_seed</th>\n",
              "      <th>loser_entry</th>\n",
              "      <th>loser_name</th>\n",
              "      <th>loser_hand</th>\n",
              "      <th>loser_ht</th>\n",
              "      <th>loser_ioc</th>\n",
              "      <th>loser_age</th>\n",
              "      <th>loser_rank</th>\n",
              "      <th>loser_rank_points</th>\n",
              "      <th>score</th>\n",
              "      <th>best_of</th>\n",
              "      <th>round</th>\n",
              "      <th>max_minus_winner_rank_points</th>\n",
              "    </tr>\n",
              "  </thead>\n",
              "  <tbody>\n",
              "    <tr>\n",
              "      <th>0</th>\n",
              "      <td>2000-W-SL-AUS-01A-2000</td>\n",
              "      <td>Australian Open</td>\n",
              "      <td>Hard</td>\n",
              "      <td>128</td>\n",
              "      <td>G</td>\n",
              "      <td>20000117</td>\n",
              "      <td>1</td>\n",
              "      <td>200001</td>\n",
              "      <td>1.0</td>\n",
              "      <td>NaN</td>\n",
              "      <td>Martina Hingis</td>\n",
              "      <td>R</td>\n",
              "      <td>170.0</td>\n",
              "      <td>SUI</td>\n",
              "      <td>19.296372</td>\n",
              "      <td>1.0</td>\n",
              "      <td>6003.0</td>\n",
              "      <td>200002</td>\n",
              "      <td>NaN</td>\n",
              "      <td>NaN</td>\n",
              "      <td>Mirjana Lucic</td>\n",
              "      <td>R</td>\n",
              "      <td>NaN</td>\n",
              "      <td>CRO</td>\n",
              "      <td>17.859001</td>\n",
              "      <td>49.0</td>\n",
              "      <td>640.0</td>\n",
              "      <td>6-1 6-2</td>\n",
              "      <td>3</td>\n",
              "      <td>R128</td>\n",
              "      <td>142.0</td>\n",
              "    </tr>\n",
              "    <tr>\n",
              "      <th>1</th>\n",
              "      <td>2000-W-SL-AUS-01A-2000</td>\n",
              "      <td>Australian Open</td>\n",
              "      <td>Hard</td>\n",
              "      <td>128</td>\n",
              "      <td>G</td>\n",
              "      <td>20000117</td>\n",
              "      <td>2</td>\n",
              "      <td>200003</td>\n",
              "      <td>NaN</td>\n",
              "      <td>NaN</td>\n",
              "      <td>Justine Henin</td>\n",
              "      <td>R</td>\n",
              "      <td>167.0</td>\n",
              "      <td>BEL</td>\n",
              "      <td>17.629021</td>\n",
              "      <td>63.0</td>\n",
              "      <td>510.0</td>\n",
              "      <td>200004</td>\n",
              "      <td>NaN</td>\n",
              "      <td>Q</td>\n",
              "      <td>Kerry Anne Guse</td>\n",
              "      <td>R</td>\n",
              "      <td>NaN</td>\n",
              "      <td>AUS</td>\n",
              "      <td>27.118412</td>\n",
              "      <td>133.0</td>\n",
              "      <td>199.0</td>\n",
              "      <td>6-4 6-2</td>\n",
              "      <td>3</td>\n",
              "      <td>R128</td>\n",
              "      <td>5635.0</td>\n",
              "    </tr>\n",
              "    <tr>\n",
              "      <th>2</th>\n",
              "      <td>2000-W-SL-AUS-01A-2000</td>\n",
              "      <td>Australian Open</td>\n",
              "      <td>Hard</td>\n",
              "      <td>128</td>\n",
              "      <td>G</td>\n",
              "      <td>20000117</td>\n",
              "      <td>3</td>\n",
              "      <td>200006</td>\n",
              "      <td>NaN</td>\n",
              "      <td>NaN</td>\n",
              "      <td>Karina Habsudova</td>\n",
              "      <td>R</td>\n",
              "      <td>NaN</td>\n",
              "      <td>SVK</td>\n",
              "      <td>26.458590</td>\n",
              "      <td>53.0</td>\n",
              "      <td>574.0</td>\n",
              "      <td>200005</td>\n",
              "      <td>NaN</td>\n",
              "      <td>NaN</td>\n",
              "      <td>Jolene Watanabe Giltz</td>\n",
              "      <td>R</td>\n",
              "      <td>NaN</td>\n",
              "      <td>USA</td>\n",
              "      <td>31.378508</td>\n",
              "      <td>118.0</td>\n",
              "      <td>243.0</td>\n",
              "      <td>6-0 6-1</td>\n",
              "      <td>3</td>\n",
              "      <td>R128</td>\n",
              "      <td>5571.0</td>\n",
              "    </tr>\n",
              "    <tr>\n",
              "      <th>3</th>\n",
              "      <td>2000-W-SL-AUS-01A-2000</td>\n",
              "      <td>Australian Open</td>\n",
              "      <td>Hard</td>\n",
              "      <td>128</td>\n",
              "      <td>G</td>\n",
              "      <td>20000117</td>\n",
              "      <td>4</td>\n",
              "      <td>200008</td>\n",
              "      <td>NaN</td>\n",
              "      <td>NaN</td>\n",
              "      <td>Alicia Molik</td>\n",
              "      <td>R</td>\n",
              "      <td>182.0</td>\n",
              "      <td>AUS</td>\n",
              "      <td>18.970568</td>\n",
              "      <td>116.0</td>\n",
              "      <td>245.0</td>\n",
              "      <td>200007</td>\n",
              "      <td>NaN</td>\n",
              "      <td>NaN</td>\n",
              "      <td>Silvija Talaja</td>\n",
              "      <td>R</td>\n",
              "      <td>NaN</td>\n",
              "      <td>CRO</td>\n",
              "      <td>22.006845</td>\n",
              "      <td>23.0</td>\n",
              "      <td>1112.0</td>\n",
              "      <td>6-1 5-7 7-5</td>\n",
              "      <td>3</td>\n",
              "      <td>R128</td>\n",
              "      <td>5900.0</td>\n",
              "    </tr>\n",
              "    <tr>\n",
              "      <th>4</th>\n",
              "      <td>2000-W-SL-AUS-01A-2000</td>\n",
              "      <td>Australian Open</td>\n",
              "      <td>Hard</td>\n",
              "      <td>128</td>\n",
              "      <td>G</td>\n",
              "      <td>20000117</td>\n",
              "      <td>5</td>\n",
              "      <td>200009</td>\n",
              "      <td>NaN</td>\n",
              "      <td>NaN</td>\n",
              "      <td>Tamarine Tanasugarn</td>\n",
              "      <td>R</td>\n",
              "      <td>165.0</td>\n",
              "      <td>THA</td>\n",
              "      <td>22.650240</td>\n",
              "      <td>72.0</td>\n",
              "      <td>439.0</td>\n",
              "      <td>200010</td>\n",
              "      <td>NaN</td>\n",
              "      <td>NaN</td>\n",
              "      <td>Rita Grande</td>\n",
              "      <td>R</td>\n",
              "      <td>NaN</td>\n",
              "      <td>ITA</td>\n",
              "      <td>24.821355</td>\n",
              "      <td>60.0</td>\n",
              "      <td>516.0</td>\n",
              "      <td>6-3 6-4</td>\n",
              "      <td>3</td>\n",
              "      <td>R128</td>\n",
              "      <td>5706.0</td>\n",
              "    </tr>\n",
              "  </tbody>\n",
              "</table>\n",
              "</div>\n",
              "      <button class=\"colab-df-convert\" onclick=\"convertToInteractive('df-61abb476-3233-4cc1-8565-19d310a6e742')\"\n",
              "              title=\"Convert this dataframe to an interactive table.\"\n",
              "              style=\"display:none;\">\n",
              "        \n",
              "  <svg xmlns=\"http://www.w3.org/2000/svg\" height=\"24px\"viewBox=\"0 0 24 24\"\n",
              "       width=\"24px\">\n",
              "    <path d=\"M0 0h24v24H0V0z\" fill=\"none\"/>\n",
              "    <path d=\"M18.56 5.44l.94 2.06.94-2.06 2.06-.94-2.06-.94-.94-2.06-.94 2.06-2.06.94zm-11 1L8.5 8.5l.94-2.06 2.06-.94-2.06-.94L8.5 2.5l-.94 2.06-2.06.94zm10 10l.94 2.06.94-2.06 2.06-.94-2.06-.94-.94-2.06-.94 2.06-2.06.94z\"/><path d=\"M17.41 7.96l-1.37-1.37c-.4-.4-.92-.59-1.43-.59-.52 0-1.04.2-1.43.59L10.3 9.45l-7.72 7.72c-.78.78-.78 2.05 0 2.83L4 21.41c.39.39.9.59 1.41.59.51 0 1.02-.2 1.41-.59l7.78-7.78 2.81-2.81c.8-.78.8-2.07 0-2.86zM5.41 20L4 18.59l7.72-7.72 1.47 1.35L5.41 20z\"/>\n",
              "  </svg>\n",
              "      </button>\n",
              "      \n",
              "  <style>\n",
              "    .colab-df-container {\n",
              "      display:flex;\n",
              "      flex-wrap:wrap;\n",
              "      gap: 12px;\n",
              "    }\n",
              "\n",
              "    .colab-df-convert {\n",
              "      background-color: #E8F0FE;\n",
              "      border: none;\n",
              "      border-radius: 50%;\n",
              "      cursor: pointer;\n",
              "      display: none;\n",
              "      fill: #1967D2;\n",
              "      height: 32px;\n",
              "      padding: 0 0 0 0;\n",
              "      width: 32px;\n",
              "    }\n",
              "\n",
              "    .colab-df-convert:hover {\n",
              "      background-color: #E2EBFA;\n",
              "      box-shadow: 0px 1px 2px rgba(60, 64, 67, 0.3), 0px 1px 3px 1px rgba(60, 64, 67, 0.15);\n",
              "      fill: #174EA6;\n",
              "    }\n",
              "\n",
              "    [theme=dark] .colab-df-convert {\n",
              "      background-color: #3B4455;\n",
              "      fill: #D2E3FC;\n",
              "    }\n",
              "\n",
              "    [theme=dark] .colab-df-convert:hover {\n",
              "      background-color: #434B5C;\n",
              "      box-shadow: 0px 1px 3px 1px rgba(0, 0, 0, 0.15);\n",
              "      filter: drop-shadow(0px 1px 2px rgba(0, 0, 0, 0.3));\n",
              "      fill: #FFFFFF;\n",
              "    }\n",
              "  </style>\n",
              "\n",
              "      <script>\n",
              "        const buttonEl =\n",
              "          document.querySelector('#df-61abb476-3233-4cc1-8565-19d310a6e742 button.colab-df-convert');\n",
              "        buttonEl.style.display =\n",
              "          google.colab.kernel.accessAllowed ? 'block' : 'none';\n",
              "\n",
              "        async function convertToInteractive(key) {\n",
              "          const element = document.querySelector('#df-61abb476-3233-4cc1-8565-19d310a6e742');\n",
              "          const dataTable =\n",
              "            await google.colab.kernel.invokeFunction('convertToInteractive',\n",
              "                                                     [key], {});\n",
              "          if (!dataTable) return;\n",
              "\n",
              "          const docLinkHtml = 'Like what you see? Visit the ' +\n",
              "            '<a target=\"_blank\" href=https://colab.research.google.com/notebooks/data_table.ipynb>data table notebook</a>'\n",
              "            + ' to learn more about interactive tables.';\n",
              "          element.innerHTML = '';\n",
              "          dataTable['output_type'] = 'display_data';\n",
              "          await google.colab.output.renderOutput(dataTable, element);\n",
              "          const docLink = document.createElement('div');\n",
              "          docLink.innerHTML = docLinkHtml;\n",
              "          element.appendChild(docLink);\n",
              "        }\n",
              "      </script>\n",
              "    </div>\n",
              "  </div>\n",
              "  "
            ],
            "text/plain": [
              "               tourney_id     tourney_name  ... round  max_minus_winner_rank_points\n",
              "0  2000-W-SL-AUS-01A-2000  Australian Open  ...  R128                         142.0\n",
              "1  2000-W-SL-AUS-01A-2000  Australian Open  ...  R128                        5635.0\n",
              "2  2000-W-SL-AUS-01A-2000  Australian Open  ...  R128                        5571.0\n",
              "3  2000-W-SL-AUS-01A-2000  Australian Open  ...  R128                        5900.0\n",
              "4  2000-W-SL-AUS-01A-2000  Australian Open  ...  R128                        5706.0\n",
              "\n",
              "[5 rows x 31 columns]"
            ]
          },
          "metadata": {},
          "execution_count": 23
        }
      ]
    },
    {
      "cell_type": "markdown",
      "metadata": {
        "id": "192FO3HGdH0I"
      },
      "source": [
        "# 4. Разбить данные на несколько блоков (не менее 3, приблизительно равных по размеру) по некоторому критерию (критерий определить самостоятельно)."
      ]
    },
    {
      "cell_type": "markdown",
      "metadata": {
        "id": "b8IgeFFptavZ"
      },
      "source": [
        "Разбиваем данные на 3 блока в соответствии со столбцом \"surface\" : 'Hard'; 'Clay'; 'Grass', 'Carpet' - один блок"
      ]
    },
    {
      "cell_type": "code",
      "metadata": {
        "id": "K818_Xg36Wgm"
      },
      "source": [
        "df_surface_hard = df[df['surface'] == 'Hard']  # твердое покрытие (хард)"
      ],
      "execution_count": null,
      "outputs": []
    },
    {
      "cell_type": "code",
      "source": [
        "df_surface_clay = df[df['surface'] == 'Clay']  # грунтовое покрытие"
      ],
      "metadata": {
        "id": "fWQ1rP8kg4iM"
      },
      "execution_count": null,
      "outputs": []
    },
    {
      "cell_type": "code",
      "source": [
        "df_surface_grass = df[df['surface'] == 'Grass']  # травяное покрытие\n",
        "df_surface_carpet = df[df['surface'] == 'Carpet']  # ковровое (синтетическое) покрытие\n",
        "df_surface_grass_or_carpet = df_surface_grass.append(df_surface_grass)  # травяное + ковровое"
      ],
      "metadata": {
        "id": "i8ktbPj8heUs"
      },
      "execution_count": null,
      "outputs": []
    },
    {
      "cell_type": "markdown",
      "metadata": {
        "id": "0DUvJn3FdKNZ"
      },
      "source": [
        "# 5. Привести круговую диаграмму для проделанного разбиения."
      ]
    },
    {
      "cell_type": "code",
      "metadata": {
        "id": "xuZ6O4WdvK5h",
        "colab": {
          "base_uri": "https://localhost:8080/",
          "height": 264
        },
        "outputId": "7dbb8ad7-b31c-48a0-e498-83343cc5d413"
      },
      "source": [
        "labels_ = ['hard', 'clay', 'grass or carpet']  # метки - типы поверхностей\n",
        "# секции - количество строк в соответствующей таблице\n",
        "sections_ = [df_surface_hard.shape[0], df_surface_clay.shape[0], df_surface_grass_or_carpet.shape[0]]\n",
        "colors_ = ['cyan', 'yellow', (0, 1, 0)]\n",
        "\n",
        "plt.pie(sections_, labels=labels_, colors=colors_,\n",
        "        startangle=90,\n",
        "        autopct='%1.2f%%')\n",
        "\n",
        "plt.title('surface types')\n",
        "plt.show()"
      ],
      "execution_count": null,
      "outputs": [
        {
          "output_type": "display_data",
          "data": {
            "image/png": "[encoded data removed]",
            "text/plain": [
              "<Figure size 432x288 with 1 Axes>"
            ]
          },
          "metadata": {}
        }
      ]
    },
    {
      "cell_type": "markdown",
      "metadata": {
        "id": "p6dsIMYTdMmZ"
      },
      "source": [
        "# 6. В зависимости от особенностей набора данных для каждого блока построить график (гистограмму, ...)."
      ]
    },
    {
      "cell_type": "markdown",
      "metadata": {
        "id": "ih0iyvWb5rKV"
      },
      "source": [
        "По каждому типу покрытия высчитывается доля проведенных соревновой в месяц (в процентах от общего количества), строится гистограмма"
      ]
    },
    {
      "cell_type": "code",
      "source": [
        "# список долей покрытия хард по месяцам\n",
        "lst_by_month_surface_hard = []\n",
        "# количество строк в таблице с покрытием хард за все месяцы\n",
        "amount_surface_hard = df_surface_hard.shape[0]\n",
        "# цикл по месяцам\n",
        "for i in range(1, 13):\n",
        "  # таблица - покрытие хард, i-й месяц\n",
        "  surface_hard_month = df_surface_hard[df_surface_hard['tourney_date'] % 10000 // 100 == i]\n",
        "  # добавляем в список количество строк в текущей таблице, деленное на \n",
        "  # количество строк в общей таблице с покрытием хард за все месяцы и умноженное на 100%\n",
        "  lst_by_month_surface_hard.append(100 * surface_hard_month.shape[0] / amount_surface_hard)"
      ],
      "metadata": {
        "id": "sf51sZ2s55Dg"
      },
      "execution_count": null,
      "outputs": []
    },
    {
      "cell_type": "markdown",
      "source": [
        "Для других типов покрытия таблицы создаются по той же схеме"
      ],
      "metadata": {
        "id": "3vauhmQliqAV"
      }
    },
    {
      "cell_type": "code",
      "source": [
        "lst_by_month_surface_clay = []\n",
        "amount_surface_clay = df_surface_clay.shape[0]\n",
        "for i in range(1, 13):\n",
        "  surface_clay_month = df_surface_clay[df_surface_clay['tourney_date'] % 10000 // 100 == i]\n",
        "  lst_by_month_surface_clay.append(100 * surface_clay_month.shape[0] / amount_surface_clay)"
      ],
      "metadata": {
        "id": "Q9q6ZcQ5PfrQ"
      },
      "execution_count": null,
      "outputs": []
    },
    {
      "cell_type": "code",
      "source": [
        "lst_by_month_surface_grass_or_carpet = []\n",
        "amount_surface_grass_or_carpet = df_surface_grass_or_carpet.shape[0]\n",
        "for i in range(1, 13):\n",
        "  surface_grass_or_carpet_month = df_surface_grass_or_carpet[df_surface_grass_or_carpet['tourney_date'] % 10000 // 100 == i]\n",
        "  lst_by_month_surface_grass_or_carpet.append(100 * surface_grass_or_carpet_month.shape[0] / amount_surface_grass_or_carpet)"
      ],
      "metadata": {
        "id": "f2o4PNowRiMx"
      },
      "execution_count": null,
      "outputs": []
    },
    {
      "cell_type": "code",
      "source": [
        "wid = 0.2  # ширина столбца\n",
        "\n",
        "x = [i for i in range(1, 13)]  # координаты по оси абсцисс для грунтового покрытия как есть\n",
        "# для твердого и травяного + коврового нужно пересчитать, чтобы столбцы не налезли друг на друга\n",
        "x1 = [x[i] - wid for i in range(len(x))]\n",
        "x2 = [x[i] + wid for i in range(len(x))]\n",
        "\n",
        "# формирование и отрисовка гистограмм\n",
        "plt.bar(x1, lst_by_month_surface_hard, width=wid, label=\"hard\", color='cyan')\n",
        "plt.bar(x, lst_by_month_surface_clay, width=wid, label=\"clay\", color='yellow')\n",
        "plt.bar(x2, lst_by_month_surface_grass_or_carpet, width=wid, label=\"grass or carpet\", color=(0, 1, 0))\n",
        "plt.plot()\n",
        "\n",
        "plt.xlabel(\"month number\")\n",
        "plt.ylabel(\"touneys per month (percent)\")\n",
        "plt.legend()\n",
        "plt.show()"
      ],
      "metadata": {
        "colab": {
          "base_uri": "https://localhost:8080/",
          "height": 279
        },
        "id": "Dc8o55Ff-AeQ",
        "outputId": "161fb84f-790f-400e-9b20-5c9ab042f60e"
      },
      "execution_count": null,
      "outputs": [
        {
          "output_type": "display_data",
          "data": {
            "image/png": "[encoded data removed]",
            "text/plain": [
              "<Figure size 432x288 with 1 Axes>"
            ]
          },
          "metadata": {
            "needs_background": "light"
          }
        }
      ]
    },
    {
      "cell_type": "markdown",
      "metadata": {
        "id": "pvOGMsbsdPkL"
      },
      "source": [
        "# 7. Сгруппировать данные (GroupBy) по некоторому признаку и сохранить результаты в новые таблицы. Для каждой новой таблицы провести сортировку по сложному ключу, состоящему из нескольких признаков. Для каждой таблицы своя сортировка."
      ]
    },
    {
      "cell_type": "markdown",
      "source": [
        "Первая таблица. Группируем по поверхности и уровню турнира."
      ],
      "metadata": {
        "id": "_t4GeUs9c-87"
      }
    },
    {
      "cell_type": "code",
      "source": [
        "df_first_table_7 = df.groupby(['surface', 'tourney_level']).aggregate(['count'])['tourney_id']#, 'min', 'mean', np.median, 'max'])"
      ],
      "metadata": {
        "id": "efRSebPkc6VZ"
      },
      "execution_count": null,
      "outputs": []
    },
    {
      "cell_type": "markdown",
      "source": [
        "Сортируем сначала по первому признаку, затем по второму"
      ],
      "metadata": {
        "id": "mZEviESYdGPK"
      }
    },
    {
      "cell_type": "code",
      "source": [
        "df_first_table_7.sort_values(by=['surface', 'tourney_level'])"
      ],
      "metadata": {
        "colab": {
          "base_uri": "https://localhost:8080/",
          "height": 771
        },
        "id": "aJcX6e3MXwQT",
        "outputId": "109471d4-d030-4a63-b982-52d1a5268169"
      },
      "execution_count": null,
      "outputs": [
        {
          "output_type": "execute_result",
          "data": {
            "text/html": [
              "\n",
              "  <div id=\"df-43eed76a-6a5c-4424-a6bf-37ccef1f7e43\">\n",
              "    <div class=\"colab-df-container\">\n",
              "      <div>\n",
              "<style scoped>\n",
              "    .dataframe tbody tr th:only-of-type {\n",
              "        vertical-align: middle;\n",
              "    }\n",
              "\n",
              "    .dataframe tbody tr th {\n",
              "        vertical-align: top;\n",
              "    }\n",
              "\n",
              "    .dataframe thead th {\n",
              "        text-align: right;\n",
              "    }\n",
              "</style>\n",
              "<table border=\"1\" class=\"dataframe\">\n",
              "  <thead>\n",
              "    <tr style=\"text-align: right;\">\n",
              "      <th></th>\n",
              "      <th></th>\n",
              "      <th>count</th>\n",
              "    </tr>\n",
              "    <tr>\n",
              "      <th>surface</th>\n",
              "      <th>tourney_level</th>\n",
              "      <th></th>\n",
              "    </tr>\n",
              "  </thead>\n",
              "  <tbody>\n",
              "    <tr>\n",
              "      <th rowspan=\"5\" valign=\"top\">Carpet</th>\n",
              "      <th>D</th>\n",
              "      <td>20</td>\n",
              "    </tr>\n",
              "    <tr>\n",
              "      <th>T1</th>\n",
              "      <td>52</td>\n",
              "    </tr>\n",
              "    <tr>\n",
              "      <th>T2</th>\n",
              "      <td>108</td>\n",
              "    </tr>\n",
              "    <tr>\n",
              "      <th>T3</th>\n",
              "      <td>58</td>\n",
              "    </tr>\n",
              "    <tr>\n",
              "      <th>W</th>\n",
              "      <td>15</td>\n",
              "    </tr>\n",
              "    <tr>\n",
              "      <th rowspan=\"6\" valign=\"top\">Clay</th>\n",
              "      <th>D</th>\n",
              "      <td>103</td>\n",
              "    </tr>\n",
              "    <tr>\n",
              "      <th>G</th>\n",
              "      <td>124</td>\n",
              "    </tr>\n",
              "    <tr>\n",
              "      <th>T1</th>\n",
              "      <td>162</td>\n",
              "    </tr>\n",
              "    <tr>\n",
              "      <th>T2</th>\n",
              "      <td>82</td>\n",
              "    </tr>\n",
              "    <tr>\n",
              "      <th>T3</th>\n",
              "      <td>144</td>\n",
              "    </tr>\n",
              "    <tr>\n",
              "      <th>T4</th>\n",
              "      <td>242</td>\n",
              "    </tr>\n",
              "    <tr>\n",
              "      <th rowspan=\"4\" valign=\"top\">Grass</th>\n",
              "      <th>CC</th>\n",
              "      <td>86</td>\n",
              "    </tr>\n",
              "    <tr>\n",
              "      <th>G</th>\n",
              "      <td>124</td>\n",
              "    </tr>\n",
              "    <tr>\n",
              "      <th>T2</th>\n",
              "      <td>27</td>\n",
              "    </tr>\n",
              "    <tr>\n",
              "      <th>T3</th>\n",
              "      <td>84</td>\n",
              "    </tr>\n",
              "    <tr>\n",
              "      <th rowspan=\"7\" valign=\"top\">Hard</th>\n",
              "      <th>D</th>\n",
              "      <td>33</td>\n",
              "    </tr>\n",
              "    <tr>\n",
              "      <th>G</th>\n",
              "      <td>254</td>\n",
              "    </tr>\n",
              "    <tr>\n",
              "      <th>O</th>\n",
              "      <td>62</td>\n",
              "    </tr>\n",
              "    <tr>\n",
              "      <th>T1</th>\n",
              "      <td>256</td>\n",
              "    </tr>\n",
              "    <tr>\n",
              "      <th>T2</th>\n",
              "      <td>241</td>\n",
              "    </tr>\n",
              "    <tr>\n",
              "      <th>T3</th>\n",
              "      <td>115</td>\n",
              "    </tr>\n",
              "    <tr>\n",
              "      <th>T4</th>\n",
              "      <td>183</td>\n",
              "    </tr>\n",
              "  </tbody>\n",
              "</table>\n",
              "</div>\n",
              "      <button class=\"colab-df-convert\" onclick=\"convertToInteractive('df-43eed76a-6a5c-4424-a6bf-37ccef1f7e43')\"\n",
              "              title=\"Convert this dataframe to an interactive table.\"\n",
              "              style=\"display:none;\">\n",
              "        \n",
              "  <svg xmlns=\"http://www.w3.org/2000/svg\" height=\"24px\"viewBox=\"0 0 24 24\"\n",
              "       width=\"24px\">\n",
              "    <path d=\"M0 0h24v24H0V0z\" fill=\"none\"/>\n",
              "    <path d=\"M18.56 5.44l.94 2.06.94-2.06 2.06-.94-2.06-.94-.94-2.06-.94 2.06-2.06.94zm-11 1L8.5 8.5l.94-2.06 2.06-.94-2.06-.94L8.5 2.5l-.94 2.06-2.06.94zm10 10l.94 2.06.94-2.06 2.06-.94-2.06-.94-.94-2.06-.94 2.06-2.06.94z\"/><path d=\"M17.41 7.96l-1.37-1.37c-.4-.4-.92-.59-1.43-.59-.52 0-1.04.2-1.43.59L10.3 9.45l-7.72 7.72c-.78.78-.78 2.05 0 2.83L4 21.41c.39.39.9.59 1.41.59.51 0 1.02-.2 1.41-.59l7.78-7.78 2.81-2.81c.8-.78.8-2.07 0-2.86zM5.41 20L4 18.59l7.72-7.72 1.47 1.35L5.41 20z\"/>\n",
              "  </svg>\n",
              "      </button>\n",
              "      \n",
              "  <style>\n",
              "    .colab-df-container {\n",
              "      display:flex;\n",
              "      flex-wrap:wrap;\n",
              "      gap: 12px;\n",
              "    }\n",
              "\n",
              "    .colab-df-convert {\n",
              "      background-color: #E8F0FE;\n",
              "      border: none;\n",
              "      border-radius: 50%;\n",
              "      cursor: pointer;\n",
              "      display: none;\n",
              "      fill: #1967D2;\n",
              "      height: 32px;\n",
              "      padding: 0 0 0 0;\n",
              "      width: 32px;\n",
              "    }\n",
              "\n",
              "    .colab-df-convert:hover {\n",
              "      background-color: #E2EBFA;\n",
              "      box-shadow: 0px 1px 2px rgba(60, 64, 67, 0.3), 0px 1px 3px 1px rgba(60, 64, 67, 0.15);\n",
              "      fill: #174EA6;\n",
              "    }\n",
              "\n",
              "    [theme=dark] .colab-df-convert {\n",
              "      background-color: #3B4455;\n",
              "      fill: #D2E3FC;\n",
              "    }\n",
              "\n",
              "    [theme=dark] .colab-df-convert:hover {\n",
              "      background-color: #434B5C;\n",
              "      box-shadow: 0px 1px 3px 1px rgba(0, 0, 0, 0.15);\n",
              "      filter: drop-shadow(0px 1px 2px rgba(0, 0, 0, 0.3));\n",
              "      fill: #FFFFFF;\n",
              "    }\n",
              "  </style>\n",
              "\n",
              "      <script>\n",
              "        const buttonEl =\n",
              "          document.querySelector('#df-43eed76a-6a5c-4424-a6bf-37ccef1f7e43 button.colab-df-convert');\n",
              "        buttonEl.style.display =\n",
              "          google.colab.kernel.accessAllowed ? 'block' : 'none';\n",
              "\n",
              "        async function convertToInteractive(key) {\n",
              "          const element = document.querySelector('#df-43eed76a-6a5c-4424-a6bf-37ccef1f7e43');\n",
              "          const dataTable =\n",
              "            await google.colab.kernel.invokeFunction('convertToInteractive',\n",
              "                                                     [key], {});\n",
              "          if (!dataTable) return;\n",
              "\n",
              "          const docLinkHtml = 'Like what you see? Visit the ' +\n",
              "            '<a target=\"_blank\" href=https://colab.research.google.com/notebooks/data_table.ipynb>data table notebook</a>'\n",
              "            + ' to learn more about interactive tables.';\n",
              "          element.innerHTML = '';\n",
              "          dataTable['output_type'] = 'display_data';\n",
              "          await google.colab.output.renderOutput(dataTable, element);\n",
              "          const docLink = document.createElement('div');\n",
              "          docLink.innerHTML = docLinkHtml;\n",
              "          element.appendChild(docLink);\n",
              "        }\n",
              "      </script>\n",
              "    </div>\n",
              "  </div>\n",
              "  "
            ],
            "text/plain": [
              "                       count\n",
              "surface tourney_level       \n",
              "Carpet  D                 20\n",
              "        T1                52\n",
              "        T2               108\n",
              "        T3                58\n",
              "        W                 15\n",
              "Clay    D                103\n",
              "        G                124\n",
              "        T1               162\n",
              "        T2                82\n",
              "        T3               144\n",
              "        T4               242\n",
              "Grass   CC                86\n",
              "        G                124\n",
              "        T2                27\n",
              "        T3                84\n",
              "Hard    D                 33\n",
              "        G                254\n",
              "        O                 62\n",
              "        T1               256\n",
              "        T2               241\n",
              "        T3               115\n",
              "        T4               183"
            ]
          },
          "metadata": {},
          "execution_count": 21
        }
      ]
    },
    {
      "cell_type": "markdown",
      "source": [
        "Вторая таблица. Группируем по уровню турнира и по названию."
      ],
      "metadata": {
        "id": "MDEcu1o1dLS6"
      }
    },
    {
      "cell_type": "code",
      "source": [
        "df_second_table_7 = df.groupby(['tourney_level', 'tourney_name']).aggregate(['count'])['tourney_id']#, 'min', 'mean', np.median, 'max'])"
      ],
      "metadata": {
        "id": "uYSdbgipcEiI"
      },
      "execution_count": null,
      "outputs": []
    },
    {
      "cell_type": "markdown",
      "source": [
        "Сортируем по имени турнира, переведенному в нижний регистр, в порядке убывания."
      ],
      "metadata": {
        "id": "0VEF9WffdSAi"
      }
    },
    {
      "cell_type": "code",
      "source": [
        "df_second_table_7.sort_values(by=['tourney_name'], ascending=False, key=lambda col: col.str.lower())"
      ],
      "metadata": {
        "colab": {
          "base_uri": "https://localhost:8080/",
          "height": 455
        },
        "id": "WnP81mp_cNe7",
        "outputId": "681b74b7-4ea6-432b-997f-cd625d4758aa"
      },
      "execution_count": null,
      "outputs": [
        {
          "output_type": "execute_result",
          "data": {
            "text/html": [
              "\n",
              "  <div id=\"df-52db0f55-a48e-4bad-9d23-13f0905394fa\">\n",
              "    <div class=\"colab-df-container\">\n",
              "      <div>\n",
              "<style scoped>\n",
              "    .dataframe tbody tr th:only-of-type {\n",
              "        vertical-align: middle;\n",
              "    }\n",
              "\n",
              "    .dataframe tbody tr th {\n",
              "        vertical-align: top;\n",
              "    }\n",
              "\n",
              "    .dataframe thead th {\n",
              "        text-align: right;\n",
              "    }\n",
              "</style>\n",
              "<table border=\"1\" class=\"dataframe\">\n",
              "  <thead>\n",
              "    <tr style=\"text-align: right;\">\n",
              "      <th></th>\n",
              "      <th></th>\n",
              "      <th>count</th>\n",
              "    </tr>\n",
              "    <tr>\n",
              "      <th>tourney_level</th>\n",
              "      <th>tourney_name</th>\n",
              "      <th></th>\n",
              "    </tr>\n",
              "  </thead>\n",
              "  <tbody>\n",
              "    <tr>\n",
              "      <th>T1</th>\n",
              "      <th>Zurich</th>\n",
              "      <td>27</td>\n",
              "    </tr>\n",
              "    <tr>\n",
              "      <th>W</th>\n",
              "      <th>WTA Tour Championships</th>\n",
              "      <td>15</td>\n",
              "    </tr>\n",
              "    <tr>\n",
              "      <th>G</th>\n",
              "      <th>Wimbledon</th>\n",
              "      <td>124</td>\n",
              "    </tr>\n",
              "    <tr>\n",
              "      <th>T4</th>\n",
              "      <th>Warsaw</th>\n",
              "      <td>30</td>\n",
              "    </tr>\n",
              "    <tr>\n",
              "      <th>CC</th>\n",
              "      <th>Victoria 4 10K</th>\n",
              "      <td>26</td>\n",
              "    </tr>\n",
              "    <tr>\n",
              "      <th>...</th>\n",
              "      <th>...</th>\n",
              "      <td>...</td>\n",
              "    </tr>\n",
              "    <tr>\n",
              "      <th>G</th>\n",
              "      <th>Australian Open</th>\n",
              "      <td>127</td>\n",
              "    </tr>\n",
              "    <tr>\n",
              "      <th rowspan=\"2\" valign=\"top\">T4</th>\n",
              "      <th>Auckland</th>\n",
              "      <td>31</td>\n",
              "    </tr>\n",
              "    <tr>\n",
              "      <th>Antwerp</th>\n",
              "      <td>30</td>\n",
              "    </tr>\n",
              "    <tr>\n",
              "      <th>T2</th>\n",
              "      <th>Amelia Island</th>\n",
              "      <td>55</td>\n",
              "    </tr>\n",
              "    <tr>\n",
              "      <th>T3</th>\n",
              "      <th>'s-Hertogenbosch</th>\n",
              "      <td>29</td>\n",
              "    </tr>\n",
              "  </tbody>\n",
              "</table>\n",
              "<p>154 rows × 1 columns</p>\n",
              "</div>\n",
              "      <button class=\"colab-df-convert\" onclick=\"convertToInteractive('df-52db0f55-a48e-4bad-9d23-13f0905394fa')\"\n",
              "              title=\"Convert this dataframe to an interactive table.\"\n",
              "              style=\"display:none;\">\n",
              "        \n",
              "  <svg xmlns=\"http://www.w3.org/2000/svg\" height=\"24px\"viewBox=\"0 0 24 24\"\n",
              "       width=\"24px\">\n",
              "    <path d=\"M0 0h24v24H0V0z\" fill=\"none\"/>\n",
              "    <path d=\"M18.56 5.44l.94 2.06.94-2.06 2.06-.94-2.06-.94-.94-2.06-.94 2.06-2.06.94zm-11 1L8.5 8.5l.94-2.06 2.06-.94-2.06-.94L8.5 2.5l-.94 2.06-2.06.94zm10 10l.94 2.06.94-2.06 2.06-.94-2.06-.94-.94-2.06-.94 2.06-2.06.94z\"/><path d=\"M17.41 7.96l-1.37-1.37c-.4-.4-.92-.59-1.43-.59-.52 0-1.04.2-1.43.59L10.3 9.45l-7.72 7.72c-.78.78-.78 2.05 0 2.83L4 21.41c.39.39.9.59 1.41.59.51 0 1.02-.2 1.41-.59l7.78-7.78 2.81-2.81c.8-.78.8-2.07 0-2.86zM5.41 20L4 18.59l7.72-7.72 1.47 1.35L5.41 20z\"/>\n",
              "  </svg>\n",
              "      </button>\n",
              "      \n",
              "  <style>\n",
              "    .colab-df-container {\n",
              "      display:flex;\n",
              "      flex-wrap:wrap;\n",
              "      gap: 12px;\n",
              "    }\n",
              "\n",
              "    .colab-df-convert {\n",
              "      background-color: #E8F0FE;\n",
              "      border: none;\n",
              "      border-radius: 50%;\n",
              "      cursor: pointer;\n",
              "      display: none;\n",
              "      fill: #1967D2;\n",
              "      height: 32px;\n",
              "      padding: 0 0 0 0;\n",
              "      width: 32px;\n",
              "    }\n",
              "\n",
              "    .colab-df-convert:hover {\n",
              "      background-color: #E2EBFA;\n",
              "      box-shadow: 0px 1px 2px rgba(60, 64, 67, 0.3), 0px 1px 3px 1px rgba(60, 64, 67, 0.15);\n",
              "      fill: #174EA6;\n",
              "    }\n",
              "\n",
              "    [theme=dark] .colab-df-convert {\n",
              "      background-color: #3B4455;\n",
              "      fill: #D2E3FC;\n",
              "    }\n",
              "\n",
              "    [theme=dark] .colab-df-convert:hover {\n",
              "      background-color: #434B5C;\n",
              "      box-shadow: 0px 1px 3px 1px rgba(0, 0, 0, 0.15);\n",
              "      filter: drop-shadow(0px 1px 2px rgba(0, 0, 0, 0.3));\n",
              "      fill: #FFFFFF;\n",
              "    }\n",
              "  </style>\n",
              "\n",
              "      <script>\n",
              "        const buttonEl =\n",
              "          document.querySelector('#df-52db0f55-a48e-4bad-9d23-13f0905394fa button.colab-df-convert');\n",
              "        buttonEl.style.display =\n",
              "          google.colab.kernel.accessAllowed ? 'block' : 'none';\n",
              "\n",
              "        async function convertToInteractive(key) {\n",
              "          const element = document.querySelector('#df-52db0f55-a48e-4bad-9d23-13f0905394fa');\n",
              "          const dataTable =\n",
              "            await google.colab.kernel.invokeFunction('convertToInteractive',\n",
              "                                                     [key], {});\n",
              "          if (!dataTable) return;\n",
              "\n",
              "          const docLinkHtml = 'Like what you see? Visit the ' +\n",
              "            '<a target=\"_blank\" href=https://colab.research.google.com/notebooks/data_table.ipynb>data table notebook</a>'\n",
              "            + ' to learn more about interactive tables.';\n",
              "          element.innerHTML = '';\n",
              "          dataTable['output_type'] = 'display_data';\n",
              "          await google.colab.output.renderOutput(dataTable, element);\n",
              "          const docLink = document.createElement('div');\n",
              "          docLink.innerHTML = docLinkHtml;\n",
              "          element.appendChild(docLink);\n",
              "        }\n",
              "      </script>\n",
              "    </div>\n",
              "  </div>\n",
              "  "
            ],
            "text/plain": [
              "                                      count\n",
              "tourney_level tourney_name                 \n",
              "T1            Zurich                     27\n",
              "W             WTA Tour Championships     15\n",
              "G             Wimbledon                 124\n",
              "T4            Warsaw                     30\n",
              "CC            Victoria 4 10K             26\n",
              "...                                     ...\n",
              "G             Australian Open           127\n",
              "T4            Auckland                   31\n",
              "              Antwerp                    30\n",
              "T2            Amelia Island              55\n",
              "T3            's-Hertogenbosch           29\n",
              "\n",
              "[154 rows x 1 columns]"
            ]
          },
          "metadata": {},
          "execution_count": 31
        }
      ]
    },
    {
      "cell_type": "markdown",
      "metadata": {
        "id": "0YmRzd5WdSkp"
      },
      "source": [
        "# 8. Выдвинуть и проверить или опровергнуть гипотезы о структуре и зависимостях в исследуемых данных, визуализировать результаты."
      ]
    },
    {
      "cell_type": "markdown",
      "source": [
        "**Гипотеза 1. Возраст участниц таких соревнований варьируется примерно от 16 до 35 лет.**"
      ],
      "metadata": {
        "id": "6vICzfJyxY1C"
      }
    },
    {
      "cell_type": "markdown",
      "source": [
        "Посчитаем количество победителей в каждом возрасте."
      ],
      "metadata": {
        "id": "7OlQjQrj6RAk"
      }
    },
    {
      "cell_type": "code",
      "source": [
        "df_winner_age_8 = df.groupby('winner_age').aggregate('count')['tourney_id']"
      ],
      "metadata": {
        "id": "50cmodGb2Sk7"
      },
      "execution_count": null,
      "outputs": []
    },
    {
      "cell_type": "markdown",
      "source": [
        "Посчитаем количество проигравших в каждом возрасте."
      ],
      "metadata": {
        "id": "Q08yoRY36YP9"
      }
    },
    {
      "cell_type": "code",
      "source": [
        "df_loser_age_8 = df.groupby('loser_age').aggregate('count')['tourney_id']"
      ],
      "metadata": {
        "id": "Oxx1D-J3474K"
      },
      "execution_count": null,
      "outputs": []
    },
    {
      "cell_type": "markdown",
      "source": [
        "Визуализируем полученные данные."
      ],
      "metadata": {
        "id": "lomnfTG96lkS"
      }
    },
    {
      "cell_type": "code",
      "source": [
        "plt.plot(df_winner_age_8, color='cyan',  label=\"winners\")\n",
        "plt.plot(df_loser_age_8, color='magenta',  label=\"losers\")\n",
        "\n",
        "plt.xlabel(\"age\")\n",
        "plt.ylabel(\"amount of women\")\n",
        "plt.title(\"WTA matches women's ages\")\n",
        "plt.legend()\n",
        "\n",
        "plt.show()"
      ],
      "metadata": {
        "colab": {
          "base_uri": "https://localhost:8080/",
          "height": 295
        },
        "id": "J82mrdl75O2C",
        "outputId": "0c6b73cc-981d-4842-c39a-09901b40024f"
      },
      "execution_count": null,
      "outputs": [
        {
          "output_type": "display_data",
          "data": {
            "image/png": "[encoded data removed]",
            "text/plain": [
              "<Figure size 432x288 with 1 Axes>"
            ]
          },
          "metadata": {
            "needs_background": "light"
          }
        }
      ]
    },
    {
      "cell_type": "markdown",
      "source": [
        "**Вывод.** В самом деле, самым молодым участницам 15 лет, но их не очень много - вероятно, девушки только начинают спортивную карьеру, пробуют себя на серьезных соревнованиях. Самым старшим участницам примерно 33-34 года, как и предполагалось."
      ],
      "metadata": {
        "id": "zmwKWiiA7BK6"
      }
    },
    {
      "cell_type": "markdown",
      "source": [
        "**Гипотеза 2. Наиболее часто встречающийся вид поверхности - хард, так как корты с таким покрытием всепогодны, могут использоваться как снаружи, так и внутри помещений, достаточно просто ремонтируются, практически не требуют регулярного ухода.**"
      ],
      "metadata": {
        "id": "mZAk7rWDx3JS"
      }
    },
    {
      "cell_type": "markdown",
      "source": [
        "Посчитаем количество турниров, проводившихся на поверхности каждого типа, и отсортируем полученные данные по убыванию."
      ],
      "metadata": {
        "id": "DNGPp3Mh0LP6"
      }
    },
    {
      "cell_type": "code",
      "source": [
        "df_surface_8 = df.groupby('surface').aggregate('count').sort_values(by='tourney_id', ascending=False)['tourney_id']"
      ],
      "metadata": {
        "id": "_-M_Kr1nxa76"
      },
      "execution_count": null,
      "outputs": []
    },
    {
      "cell_type": "markdown",
      "source": [
        "Представим в виде круговой диаграммы."
      ],
      "metadata": {
        "id": "gyuX80YI0k7a"
      }
    },
    {
      "cell_type": "code",
      "source": [
        "labels_ = df['surface'].unique()\n",
        "colors_ = [(0, 1, 1), (1, 1, 0), (0, 1, 0), (1, 0, 1)]\n",
        "\n",
        "plt.pie(df_surface_8, labels=labels_, colors=colors_,\n",
        "        startangle=90,\n",
        "        autopct='%1.2f%%')\n",
        "\n",
        "plt.title('Surface types')\n",
        "plt.show()"
      ],
      "metadata": {
        "colab": {
          "base_uri": "https://localhost:8080/",
          "height": 264
        },
        "id": "6jQHrkl4yddS",
        "outputId": "7f3060a9-f3f2-440f-9ca9-10dc3656e764"
      },
      "execution_count": null,
      "outputs": [
        {
          "output_type": "display_data",
          "data": {
            "image/png": "[encoded data removed]",
            "text/plain": [
              "<Figure size 432x288 with 1 Axes>"
            ]
          },
          "metadata": {}
        }
      ]
    },
    {
      "cell_type": "markdown",
      "source": [
        "**Вывод.** В самом деле, хард - самое популярное покрытие. Почти половина турниров проводилась на таких кортах."
      ],
      "metadata": {
        "id": "oRSBk_GFz-JK"
      }
    }
  ]
}